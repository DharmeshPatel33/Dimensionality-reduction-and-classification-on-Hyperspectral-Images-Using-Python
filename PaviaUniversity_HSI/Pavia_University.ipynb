{
 "cells": [
  {
   "cell_type": "code",
   "execution_count": 2,
   "metadata": {},
   "outputs": [],
   "source": [
    "import numpy as np\n",
    "import matplotlib.pyplot as plt\n",
    "import pandas as pd\n",
    "from sklearn import decomposition\n",
    "from sklearn.preprocessing import MinMaxScaler\n",
    "from sklearn.decomposition import PCA\n",
    "import seaborn as sns"
   ]
  },
  {
   "cell_type": "code",
   "execution_count": 4,
   "metadata": {},
   "outputs": [
    {
     "data": {
      "text/html": [
       "<div>\n",
       "<style scoped>\n",
       "    .dataframe tbody tr th:only-of-type {\n",
       "        vertical-align: middle;\n",
       "    }\n",
       "\n",
       "    .dataframe tbody tr th {\n",
       "        vertical-align: top;\n",
       "    }\n",
       "\n",
       "    .dataframe thead th {\n",
       "        text-align: right;\n",
       "    }\n",
       "</style>\n",
       "<table border=\"1\" class=\"dataframe\">\n",
       "  <thead>\n",
       "    <tr style=\"text-align: right;\">\n",
       "      <th></th>\n",
       "      <th>pix1</th>\n",
       "      <th>pix2</th>\n",
       "      <th>pix3</th>\n",
       "      <th>pix4</th>\n",
       "      <th>pix5</th>\n",
       "      <th>pix6</th>\n",
       "      <th>pix7</th>\n",
       "      <th>pix8</th>\n",
       "      <th>pix9</th>\n",
       "      <th>pix10</th>\n",
       "      <th>...</th>\n",
       "      <th>pix95</th>\n",
       "      <th>pix96</th>\n",
       "      <th>pix97</th>\n",
       "      <th>pix98</th>\n",
       "      <th>pix99</th>\n",
       "      <th>pix100</th>\n",
       "      <th>pix101</th>\n",
       "      <th>pix102</th>\n",
       "      <th>pix103</th>\n",
       "      <th>class</th>\n",
       "    </tr>\n",
       "  </thead>\n",
       "  <tbody>\n",
       "    <tr>\n",
       "      <th>0</th>\n",
       "      <td>255</td>\n",
       "      <td>255</td>\n",
       "      <td>255</td>\n",
       "      <td>255</td>\n",
       "      <td>255</td>\n",
       "      <td>255</td>\n",
       "      <td>255</td>\n",
       "      <td>255</td>\n",
       "      <td>255</td>\n",
       "      <td>255</td>\n",
       "      <td>...</td>\n",
       "      <td>255</td>\n",
       "      <td>255</td>\n",
       "      <td>255</td>\n",
       "      <td>255</td>\n",
       "      <td>255</td>\n",
       "      <td>255</td>\n",
       "      <td>255</td>\n",
       "      <td>255</td>\n",
       "      <td>255</td>\n",
       "      <td>0</td>\n",
       "    </tr>\n",
       "    <tr>\n",
       "      <th>1</th>\n",
       "      <td>255</td>\n",
       "      <td>255</td>\n",
       "      <td>255</td>\n",
       "      <td>255</td>\n",
       "      <td>255</td>\n",
       "      <td>255</td>\n",
       "      <td>255</td>\n",
       "      <td>255</td>\n",
       "      <td>255</td>\n",
       "      <td>255</td>\n",
       "      <td>...</td>\n",
       "      <td>255</td>\n",
       "      <td>255</td>\n",
       "      <td>255</td>\n",
       "      <td>255</td>\n",
       "      <td>255</td>\n",
       "      <td>255</td>\n",
       "      <td>255</td>\n",
       "      <td>255</td>\n",
       "      <td>255</td>\n",
       "      <td>0</td>\n",
       "    </tr>\n",
       "    <tr>\n",
       "      <th>2</th>\n",
       "      <td>255</td>\n",
       "      <td>255</td>\n",
       "      <td>255</td>\n",
       "      <td>255</td>\n",
       "      <td>255</td>\n",
       "      <td>255</td>\n",
       "      <td>255</td>\n",
       "      <td>255</td>\n",
       "      <td>255</td>\n",
       "      <td>255</td>\n",
       "      <td>...</td>\n",
       "      <td>255</td>\n",
       "      <td>255</td>\n",
       "      <td>255</td>\n",
       "      <td>255</td>\n",
       "      <td>255</td>\n",
       "      <td>255</td>\n",
       "      <td>255</td>\n",
       "      <td>255</td>\n",
       "      <td>255</td>\n",
       "      <td>0</td>\n",
       "    </tr>\n",
       "    <tr>\n",
       "      <th>3</th>\n",
       "      <td>255</td>\n",
       "      <td>255</td>\n",
       "      <td>255</td>\n",
       "      <td>255</td>\n",
       "      <td>255</td>\n",
       "      <td>255</td>\n",
       "      <td>178</td>\n",
       "      <td>198</td>\n",
       "      <td>193</td>\n",
       "      <td>224</td>\n",
       "      <td>...</td>\n",
       "      <td>255</td>\n",
       "      <td>255</td>\n",
       "      <td>255</td>\n",
       "      <td>255</td>\n",
       "      <td>255</td>\n",
       "      <td>255</td>\n",
       "      <td>255</td>\n",
       "      <td>255</td>\n",
       "      <td>255</td>\n",
       "      <td>0</td>\n",
       "    </tr>\n",
       "    <tr>\n",
       "      <th>4</th>\n",
       "      <td>255</td>\n",
       "      <td>255</td>\n",
       "      <td>255</td>\n",
       "      <td>255</td>\n",
       "      <td>255</td>\n",
       "      <td>255</td>\n",
       "      <td>255</td>\n",
       "      <td>208</td>\n",
       "      <td>231</td>\n",
       "      <td>255</td>\n",
       "      <td>...</td>\n",
       "      <td>255</td>\n",
       "      <td>255</td>\n",
       "      <td>255</td>\n",
       "      <td>255</td>\n",
       "      <td>255</td>\n",
       "      <td>255</td>\n",
       "      <td>255</td>\n",
       "      <td>255</td>\n",
       "      <td>255</td>\n",
       "      <td>0</td>\n",
       "    </tr>\n",
       "  </tbody>\n",
       "</table>\n",
       "<p>5 rows × 104 columns</p>\n",
       "</div>"
      ],
      "text/plain": [
       "   pix1  pix2  pix3  pix4  pix5  pix6  pix7  pix8  pix9  pix10  ...    pix95  \\\n",
       "0   255   255   255   255   255   255   255   255   255    255  ...      255   \n",
       "1   255   255   255   255   255   255   255   255   255    255  ...      255   \n",
       "2   255   255   255   255   255   255   255   255   255    255  ...      255   \n",
       "3   255   255   255   255   255   255   178   198   193    224  ...      255   \n",
       "4   255   255   255   255   255   255   255   208   231    255  ...      255   \n",
       "\n",
       "   pix96  pix97  pix98  pix99  pix100  pix101  pix102  pix103  class  \n",
       "0    255    255    255    255     255     255     255     255      0  \n",
       "1    255    255    255    255     255     255     255     255      0  \n",
       "2    255    255    255    255     255     255     255     255      0  \n",
       "3    255    255    255    255     255     255     255     255      0  \n",
       "4    255    255    255    255     255     255     255     255      0  \n",
       "\n",
       "[5 rows x 104 columns]"
      ]
     },
     "execution_count": 4,
     "metadata": {},
     "output_type": "execute_result"
    }
   ],
   "source": [
    "df = pd.read_csv(\"paviaU_CompleteData.csv\")\n",
    "df.head()"
   ]
  },
  {
   "cell_type": "code",
   "execution_count": 5,
   "metadata": {},
   "outputs": [],
   "source": [
    "X = df.loc[:, ['pix'+str(i) for i in range(1,104)]].values\n",
    "# Separating out the target\n",
    "y = df.loc[:,['class']].values"
   ]
  },
  {
   "cell_type": "code",
   "execution_count": 6,
   "metadata": {},
   "outputs": [],
   "source": [
    "scaler_model = MinMaxScaler()\n",
    "scaler_model.fit(X.astype(float))\n",
    "x=scaler_model.transform(X)"
   ]
  },
  {
   "cell_type": "code",
   "execution_count": 7,
   "metadata": {},
   "outputs": [],
   "source": [
    "from sklearn.neighbors import KNeighborsClassifier  \n",
    "from sklearn import metrics\n",
    "def perform_knnc(X_train, X_test, y_train, y_test, w = 'uniform'):\n",
    "    # try K=1 through K=40 and record testing accuracy\n",
    "    k_range = range(1, 41)\n",
    "\n",
    "    # We can create Python list using [] or llist()\n",
    "    scores = []\n",
    "\n",
    "    # We use a loop through the range 1 to 40\n",
    "    # We append the scores in a list\n",
    "    for k in k_range:\n",
    "        knn = KNeighborsClassifier(n_neighbors=k, weights=w, algorithm='auto')\n",
    "        knn.fit(X_train, y_train)\n",
    "        y_pred = knn.predict(X_test)\n",
    "        scores.append(metrics.accuracy_score(y_test, y_pred))\n",
    "    scores=[i*100 for i in scores]\n",
    "    return scores\n",
    "\n",
    "def plot_acc(scores):\n",
    "    plt.figure(figsize=(12, 6))\n",
    "    plt.plot(scores, color='blue', linestyle='dashed', marker='o',  \n",
    "             markerfacecolor='#ff6347', markersize=10)\n",
    "    plt.title('Accuracy scores for K-values(1-40)')  \n",
    "    plt.xlabel('K Value')\n",
    "    plt.xticks=[i for i in range(1, 41)]\n",
    "    plt.ylabel('Accuracy')\n",
    "    plt.show()"
   ]
  },
  {
   "cell_type": "markdown",
   "metadata": {},
   "source": [
    "## PCA"
   ]
  },
  {
   "cell_type": "code",
   "execution_count": 8,
   "metadata": {},
   "outputs": [
    {
     "data": {
      "text/plain": [
       "0.9996941215372042"
      ]
     },
     "execution_count": 8,
     "metadata": {},
     "output_type": "execute_result"
    }
   ],
   "source": [
    "from sklearn.model_selection import train_test_split\n",
    "\n",
    "pca = PCA(n_components=70)\n",
    "principalComponents = pca.fit_transform(X)\n",
    "sum(pca.explained_variance_ratio_)"
   ]
  },
  {
   "cell_type": "code",
   "execution_count": 10,
   "metadata": {},
   "outputs": [],
   "source": [
    "principalDf = pd.DataFrame(data = principalComponents, columns = ['PC-'+str(i)  for i in range(1, 71)])\n",
    "# Adding lables\n",
    "finalDf = pd.concat([principalDf, df[['class']]], axis = 1)\n",
    "finalDf.to_csv('PaviaU_pca_70.csv')"
   ]
  },
  {
   "cell_type": "code",
   "execution_count": null,
   "metadata": {},
   "outputs": [],
   "source": [
    "X_train, X_test, y_train, y_test = train_test_split(principalComponents, y.ravel(), test_size = 0.3, random_state = 100)\n",
    "acc_scores=[]\n",
    "acc_scores = perform_knnc(X_train, X_test, y_train, y_test, w = 'uniform')\n",
    "print('Maximum Accuracy:',max(acc_scores),' at k-value',acc_scores.index(max(acc_scores))+1)"
   ]
  },
  {
   "cell_type": "code",
   "execution_count": null,
   "metadata": {},
   "outputs": [],
   "source": [
    "acc_scores = perform_knnc(X_train, X_test, y_train, y_test, w = 'distance')\n",
    "print('Maximum Accuracy:',max(acc_scores),' at k-value',acc_scores.index(max(acc_scores))+1)\n",
    "for i in range(len(acc_scores)):\n",
    "    print(\"Accuracy : %2.10f at k-value %2d\"%(acc_scores[i], i+1))"
   ]
  },
  {
   "cell_type": "code",
   "execution_count": null,
   "metadata": {},
   "outputs": [],
   "source": [
    "print(' Accuracy:',acc_scores[6],' at k-value',7)"
   ]
  },
  {
   "cell_type": "markdown",
   "metadata": {},
   "source": [
    "## <font color='tomato'>Accuracies:</font>\n",
    "## PCA + KNNC    =  86.78804855275443\n",
    "## PCA + WKNNC =  87.58169934640523"
   ]
  },
  {
   "cell_type": "markdown",
   "metadata": {},
   "source": [
    "### -------------------------------------------------------------------------------------------------------------------------------------------------------"
   ]
  },
  {
   "cell_type": "markdown",
   "metadata": {},
   "source": [
    "# KPCA"
   ]
  },
  {
   "cell_type": "code",
   "execution_count": 43,
   "metadata": {},
   "outputs": [],
   "source": [
    "from sklearn.model_selection import train_test_split\n",
    "from sklearn.decomposition import KernelPCA\n",
    "\n",
    "kpca = kpca = KernelPCA(n_components=70, kernel='poly')\n",
    "principalComponents = kpca.fit_transform(X)\n",
    "# Adding lables\n",
    "principalDf = pd.DataFrame(data = principalComponents, columns = ['PC-'+str(i)  for i in range(1, 71)])\n",
    "# Adding lables\n",
    "finalDf = pd.concat([principalDf, df[['class']]], axis = 1)\n",
    "finalDf.to_csv('salinas_kpca_70.csv')\n"
   ]
  },
  {
   "cell_type": "code",
   "execution_count": 44,
   "metadata": {},
   "outputs": [
    {
     "name": "stdout",
     "output_type": "stream",
     "text": [
      "Maximum Accuracy: 85.80765639589168  at k-value 9\n",
      "Maximum Accuracy: 85.52754435107376  at k-value 7\n"
     ]
    }
   ],
   "source": [
    "X_train, X_test, y_train, y_test = train_test_split(principalComponents, y.ravel(), test_size = 0.3, random_state = 100)\n",
    "acc_scores=[]\n",
    "acc_scores = perform_knnc(X_train, X_test, y_train, y_test, w = 'uniform')\n",
    "print('Maximum Accuracy:',max(acc_scores),' at k-value',acc_scores.index(max(acc_scores))+1)\n",
    "print('Maximum Accuracy:',acc_scores[6],' at k-value',7)"
   ]
  },
  {
   "cell_type": "code",
   "execution_count": 45,
   "metadata": {},
   "outputs": [
    {
     "name": "stdout",
     "output_type": "stream",
     "text": [
      "Maximum Accuracy: 87.06816059757236  at k-value 6\n",
      "Maximum Accuracy: 86.60130718954248  at k-value 7\n"
     ]
    }
   ],
   "source": [
    "acc_scores = perform_knnc(X_train, X_test, y_train, y_test, w = 'distance')\n",
    "print('Maximum Accuracy:',max(acc_scores),' at k-value',acc_scores.index(max(acc_scores))+1)\n",
    "print('Maximum Accuracy:',acc_scores[6],' at k-value',7)"
   ]
  },
  {
   "cell_type": "markdown",
   "metadata": {},
   "source": [
    "## <font color='tomato'>Accuracies:</font>\n",
    "## PCA + KNNC    =  86.78804855275443\n",
    "## PCA + WKNNC =  87.58169934640523\n",
    "## KPCA + KNNC      =  85.52754435107376\n",
    "## KPCA + WKNNC   =  86.60130718954248"
   ]
  },
  {
   "cell_type": "code",
   "execution_count": 49,
   "metadata": {},
   "outputs": [],
   "source": [
    "def plot_gt(X, Y, k_value, w='uniform', q='plot'):\n",
    "    neigh = KNeighborsClassifier(n_neighbors = k_value, weights= w, algorithm='auto')\n",
    "    neigh.fit(X, Y.ravel())\n",
    "    pred = neigh.predict(X)\n",
    "    gt = pred\n",
    "    gt.resize((86, 83))\n",
    "    fig = plt.figure(figsize=(6, 6))\n",
    "    plt.title(\"Clasification Map(salinas): \"+q)\n",
    "    plt.imshow(gt, cmap='jet')\n",
    "    q = q+'.png'\n",
    "    fig.savefig(q, dpi=fig.dpi, bbox_inches=\"tight\")\n",
    "    plt.colorbar()\n",
    "    plt.show()"
   ]
  },
  {
   "cell_type": "code",
   "execution_count": 51,
   "metadata": {},
   "outputs": [
    {
     "data": {
      "image/png": "[encoded data removed]",
      "text/plain": [
       "<Figure size 432x432 with 2 Axes>"
      ]
     },
     "metadata": {
      "needs_background": "light"
     },
     "output_type": "display_data"
    }
   ],
   "source": [
    "df = pd.read_csv(\"salinas_pca_70.csv\")\n",
    "X = df.loc[:, ['PC-'+str(i) for i in range(1,71)]].values\n",
    "# Separating out the target\n",
    "Y = df.loc[:,['class']].values\n",
    "plot_gt(X, Y, k_value=7, w='uniform', q='PCA + KNNC')"
   ]
  },
  {
   "cell_type": "code",
   "execution_count": 52,
   "metadata": {},
   "outputs": [
    {
     "data": {
      "image/png": "[encoded data removed]",
      "text/plain": [
       "<Figure size 432x432 with 2 Axes>"
      ]
     },
     "metadata": {
      "needs_background": "light"
     },
     "output_type": "display_data"
    }
   ],
   "source": [
    "df = pd.read_csv(\"salinas_pca_70.csv\")\n",
    "X = df.loc[:, ['PC-'+str(i) for i in range(1,71)]].values\n",
    "# Separating out the target\n",
    "Y = df.loc[:,['class']].values\n",
    "plot_gt(X, Y, k_value=7, w='distance', q='PCA + WKNNC')"
   ]
  },
  {
   "cell_type": "code",
   "execution_count": 54,
   "metadata": {},
   "outputs": [
    {
     "data": {
      "image/png": "[encoded data removed]",
      "text/plain": [
       "<Figure size 432x432 with 2 Axes>"
      ]
     },
     "metadata": {
      "needs_background": "light"
     },
     "output_type": "display_data"
    }
   ],
   "source": [
    "df = pd.read_csv(\"salinas_kpca_70.csv\")\n",
    "X = df.loc[:, ['PC-'+str(i) for i in range(1,71)]].values\n",
    "# Separating out the target\n",
    "Y = df.loc[:,['class']].values\n",
    "plot_gt(X, Y, k_value=7, q='kPCA + KNNC')"
   ]
  },
  {
   "cell_type": "code",
   "execution_count": 55,
   "metadata": {},
   "outputs": [
    {
     "data": {
      "image/png": "[encoded data removed]",
      "text/plain": [
       "<Figure size 432x432 with 2 Axes>"
      ]
     },
     "metadata": {
      "needs_background": "light"
     },
     "output_type": "display_data"
    }
   ],
   "source": [
    "df = pd.read_csv(\"salinas_kpca_70.csv\")\n",
    "X = df.loc[:, ['PC-'+str(i) for i in range(1,71)]].values\n",
    "# Separating out the target\n",
    "Y = df.loc[:,['class']].values\n",
    "plot_gt(X, Y, k_value=7, w='distance', q='KPCA + WKNNC')"
   ]
  },
  {
   "cell_type": "code",
   "execution_count": null,
   "metadata": {},
   "outputs": [],
   "source": []
  }
 ],
 "metadata": {
  "kernelspec": {
   "display_name": "Python 3",
   "language": "python",
   "name": "python3"
  },
  "language_info": {
   "codemirror_mode": {
    "name": "ipython",
    "version": 3
   },
   "file_extension": ".py",
   "mimetype": "text/x-python",
   "name": "python",
   "nbconvert_exporter": "python",
   "pygments_lexer": "ipython3",
   "version": "3.6.7"
  }
 },
 "nbformat": 4,
 "nbformat_minor": 2
}
